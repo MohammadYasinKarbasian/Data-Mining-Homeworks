{
 "cells": [
  {
   "attachments": {},
   "cell_type": "markdown",
   "metadata": {},
   "source": [
    "# Q6"
   ]
  },
  {
   "cell_type": "code",
   "execution_count": 16,
   "metadata": {},
   "outputs": [],
   "source": [
    "import pandas as pd"
   ]
  },
  {
   "cell_type": "code",
   "execution_count": 25,
   "metadata": {},
   "outputs": [
    {
     "data": {
      "text/html": [
       "<div>\n",
       "<style scoped>\n",
       "    .dataframe tbody tr th:only-of-type {\n",
       "        vertical-align: middle;\n",
       "    }\n",
       "\n",
       "    .dataframe tbody tr th {\n",
       "        vertical-align: top;\n",
       "    }\n",
       "\n",
       "    .dataframe thead th {\n",
       "        text-align: right;\n",
       "    }\n",
       "</style>\n",
       "<table border=\"1\" class=\"dataframe\">\n",
       "  <thead>\n",
       "    <tr style=\"text-align: right;\">\n",
       "      <th></th>\n",
       "      <th>Unnamed: 0</th>\n",
       "      <th>Class</th>\n",
       "      <th>Petal length</th>\n",
       "      <th>Sepal length</th>\n",
       "      <th>Sepal width</th>\n",
       "      <th>Petal width</th>\n",
       "    </tr>\n",
       "  </thead>\n",
       "  <tbody>\n",
       "    <tr>\n",
       "      <th>0</th>\n",
       "      <td>0</td>\n",
       "      <td>1</td>\n",
       "      <td>51</td>\n",
       "      <td>35</td>\n",
       "      <td>14</td>\n",
       "      <td>2</td>\n",
       "    </tr>\n",
       "    <tr>\n",
       "      <th>1</th>\n",
       "      <td>1</td>\n",
       "      <td>1</td>\n",
       "      <td>49</td>\n",
       "      <td>30</td>\n",
       "      <td>14</td>\n",
       "      <td>2</td>\n",
       "    </tr>\n",
       "    <tr>\n",
       "      <th>2</th>\n",
       "      <td>2</td>\n",
       "      <td>1</td>\n",
       "      <td>47</td>\n",
       "      <td>32</td>\n",
       "      <td>13</td>\n",
       "      <td>2</td>\n",
       "    </tr>\n",
       "    <tr>\n",
       "      <th>3</th>\n",
       "      <td>3</td>\n",
       "      <td>1</td>\n",
       "      <td>46</td>\n",
       "      <td>31</td>\n",
       "      <td>15</td>\n",
       "      <td>2</td>\n",
       "    </tr>\n",
       "    <tr>\n",
       "      <th>4</th>\n",
       "      <td>4</td>\n",
       "      <td>1</td>\n",
       "      <td>50</td>\n",
       "      <td>36</td>\n",
       "      <td>14</td>\n",
       "      <td>2</td>\n",
       "    </tr>\n",
       "    <tr>\n",
       "      <th>...</th>\n",
       "      <td>...</td>\n",
       "      <td>...</td>\n",
       "      <td>...</td>\n",
       "      <td>...</td>\n",
       "      <td>...</td>\n",
       "      <td>...</td>\n",
       "    </tr>\n",
       "    <tr>\n",
       "      <th>145</th>\n",
       "      <td>145</td>\n",
       "      <td>3</td>\n",
       "      <td>67</td>\n",
       "      <td>30</td>\n",
       "      <td>52</td>\n",
       "      <td>23</td>\n",
       "    </tr>\n",
       "    <tr>\n",
       "      <th>146</th>\n",
       "      <td>146</td>\n",
       "      <td>3</td>\n",
       "      <td>63</td>\n",
       "      <td>25</td>\n",
       "      <td>50</td>\n",
       "      <td>19</td>\n",
       "    </tr>\n",
       "    <tr>\n",
       "      <th>147</th>\n",
       "      <td>147</td>\n",
       "      <td>3</td>\n",
       "      <td>65</td>\n",
       "      <td>30</td>\n",
       "      <td>52</td>\n",
       "      <td>20</td>\n",
       "    </tr>\n",
       "    <tr>\n",
       "      <th>148</th>\n",
       "      <td>148</td>\n",
       "      <td>3</td>\n",
       "      <td>62</td>\n",
       "      <td>34</td>\n",
       "      <td>54</td>\n",
       "      <td>23</td>\n",
       "    </tr>\n",
       "    <tr>\n",
       "      <th>149</th>\n",
       "      <td>149</td>\n",
       "      <td>3</td>\n",
       "      <td>59</td>\n",
       "      <td>30</td>\n",
       "      <td>51</td>\n",
       "      <td>18</td>\n",
       "    </tr>\n",
       "  </tbody>\n",
       "</table>\n",
       "<p>150 rows × 6 columns</p>\n",
       "</div>"
      ],
      "text/plain": [
       "     Unnamed: 0  Class  Petal length  Sepal length  Sepal width  Petal width\n",
       "0             0      1            51            35           14            2\n",
       "1             1      1            49            30           14            2\n",
       "2             2      1            47            32           13            2\n",
       "3             3      1            46            31           15            2\n",
       "4             4      1            50            36           14            2\n",
       "..          ...    ...           ...           ...          ...          ...\n",
       "145         145      3            67            30           52           23\n",
       "146         146      3            63            25           50           19\n",
       "147         147      3            65            30           52           20\n",
       "148         148      3            62            34           54           23\n",
       "149         149      3            59            30           51           18\n",
       "\n",
       "[150 rows x 6 columns]"
      ]
     },
     "execution_count": 25,
     "metadata": {},
     "output_type": "execute_result"
    }
   ],
   "source": [
    "\n",
    "df = pd.read_csv('Iris.csv', sep=',')\n",
    "df"
   ]
  },
  {
   "cell_type": "code",
   "execution_count": 33,
   "metadata": {},
   "outputs": [],
   "source": [
    "df.drop(df.filter(regex=\"Unname\"),axis=1, inplace=True)\n",
    "x = df.drop('Class', axis=1)\n",
    "y = df['Class']"
   ]
  },
  {
   "cell_type": "code",
   "execution_count": 34,
   "metadata": {},
   "outputs": [
    {
     "name": "stdout",
     "output_type": "stream",
     "text": [
      "error is 2.67\n"
     ]
    }
   ],
   "source": [
    "from sklearn.model_selection import LeaveOneOut\n",
    "from sklearn import svm\n",
    "from copy import deepcopy\n",
    "\n",
    "loo = LeaveOneOut()\n",
    "accuracy = 0\n",
    "linearSVM = svm.SVC(kernel='linear', max_iter=100000)\n",
    "\n",
    "y_predict = deepcopy(y)\n",
    "for (train_index, test_index) in loo.split(x):\n",
    "      linearSVM.fit(x.iloc[train_index], y[train_index])\n",
    "      accuracy += linearSVM.score(x.iloc[test_index],y[test_index])\n",
    "      y_predict[test_index] = linearSVM.predict(x.iloc[test_index])\n",
    "accuracy /= x.shape[0]\n",
    "print(f\"error is {100-accuracy*100:.2f}\")\n"
   ]
  },
  {
   "cell_type": "code",
   "execution_count": 38,
   "metadata": {},
   "outputs": [
    {
     "data": {
      "text/plain": [
       "array([[50,  0,  0],\n",
       "       [ 0, 47,  3],\n",
       "       [ 0,  1, 49]], dtype=int64)"
      ]
     },
     "execution_count": 38,
     "metadata": {},
     "output_type": "execute_result"
    }
   ],
   "source": [
    "from sklearn.metrics import confusion_matrix\n",
    "\n",
    "confusion = confusion_matrix(y,y_predict)\n",
    "confusion"
   ]
  },
  {
   "attachments": {},
   "cell_type": "markdown",
   "metadata": {},
   "source": [
    "در این ماتریس همانطور که کاملا مشخص است اغلب تمامی 50 داده مربوط به کلاس 1 را درست پیش بینی کرده است.\n",
    "تعداد 47 تا از 50 داده مربوط به کلاس 2 را درست پیش بینی کرده و 3 تا از آنها را به اشتباه کلاس  3 پیش بینی کرده است.\n",
    "همچنین از 50 داده مربوط به کلاس 3 تعدا 49 تا را درست پیش بینی کرده است و یکی از آنها را به اشتباه کلاس 2 پیش بینی کرده است."
   ]
  },
  {
   "attachments": {},
   "cell_type": "markdown",
   "metadata": {},
   "source": [
    "# 1"
   ]
  },
  {
   "cell_type": "code",
   "execution_count": 29,
   "metadata": {},
   "outputs": [],
   "source": [
    "from warnings import simplefilter\n",
    "from sklearn.exceptions import ConvergenceWarning\n",
    "simplefilter(\"ignore\", category=ConvergenceWarning)"
   ]
  },
  {
   "cell_type": "code",
   "execution_count": 30,
   "metadata": {},
   "outputs": [
    {
     "name": "stdout",
     "output_type": "stream",
     "text": [
      "1 finished with 4.0\n",
      "2 finished with 2.666666666666657\n",
      "3 finished with 4.666666666666657\n",
      "4 finished with 2.666666666666657\n",
      "5 finished with 2.666666666666657\n",
      "6 finished with 4.666666666666657\n",
      "7 finished with 4.0\n",
      "8 finished with 5.333333333333329\n",
      "9 finished with 16.666666666666657\n",
      "10 finished with 29.33333333333333\n",
      "[4.0, 2.666666666666657, 4.666666666666657, 2.666666666666657, 2.666666666666657, 4.666666666666657, 4.0, 5.333333333333329, 16.666666666666657, 29.33333333333333]\n"
     ]
    }
   ],
   "source": [
    "from sklearn.svm import SVC\n",
    "\n",
    "error = []\n",
    "degree = []\n",
    "for i in range(10):\n",
    "    loo = LeaveOneOut()\n",
    "    accuracy = 0\n",
    "    polySVM = svm.SVC(kernel='poly', degree=i+1, max_iter=100000)\n",
    "    y_predict = deepcopy(y)\n",
    "    for (train_index, test_index) in loo.split(x):\n",
    "        polySVM.fit(x.iloc[train_index], y[train_index])\n",
    "        accuracy += polySVM.score(x.iloc[test_index],y[test_index])\n",
    "        y_predict[test_index] = polySVM.predict(x.iloc[test_index])\n",
    "    accuracy /= x.shape[0]\n",
    "    error.append(100-accuracy*100)\n",
    "    degree.append(i+1)\n",
    "    print(f'{i+1} finished with {error[i]}')\n",
    "print(error)\n"
   ]
  },
  {
   "cell_type": "code",
   "execution_count": 31,
   "metadata": {},
   "outputs": [
    {
     "data": {
      "image/png": "[encoded data removed]",
      "text/plain": [
       "<Figure size 200x200 with 1 Axes>"
      ]
     },
     "metadata": {},
     "output_type": "display_data"
    }
   ],
   "source": [
    "import matplotlib.pyplot as plt\n",
    "\n",
    "plt.style.use('_mpl-gallery')\n",
    "\n",
    "x = degree\n",
    "y = error\n",
    "\n",
    "fig, ax = plt.subplots()\n",
    "\n",
    "ax.scatter(x, y)\n",
    "\n",
    "plt.show()"
   ]
  },
  {
   "attachments": {},
   "cell_type": "markdown",
   "metadata": {},
   "source": [
    "همانطور که در نمودار مشخص است بد از درجه 5 مدل ما اور فیت میشود پس باید مینیمم را از بین 1 تا 5 انتخاب کنیم. درجه های 2 و 4 و 5 مقدار های مینیمم را دارند و هر سه مقدار یکسانی دارند چون مقدار آنها یکسان است اولویت ما با مدل ساده تر است پس درجه دو را انتخاب خواهیم کرد."
   ]
  },
  {
   "attachments": {},
   "cell_type": "markdown",
   "metadata": {},
   "source": [
    "2"
   ]
  },
  {
   "cell_type": "code",
   "execution_count": 50,
   "metadata": {},
   "outputs": [],
   "source": [
    "\n",
    "loo = LeaveOneOut()\n",
    "polySVM = svm.SVC(kernel='poly', degree=2, max_iter=100000)\n",
    "y_predict = deepcopy(y)\n",
    "for (train_index, test_index) in loo.split(x):\n",
    "        polySVM.fit(x.iloc[train_index], y[train_index])\n",
    "        y_predict[test_index] = polySVM.predict(x.iloc[test_index])\n",
    "\n"
   ]
  },
  {
   "cell_type": "code",
   "execution_count": 51,
   "metadata": {},
   "outputs": [
    {
     "data": {
      "text/plain": [
       "array([[50,  0,  0],\n",
       "       [ 0, 48,  2],\n",
       "       [ 0,  2, 48]], dtype=int64)"
      ]
     },
     "execution_count": 51,
     "metadata": {},
     "output_type": "execute_result"
    }
   ],
   "source": [
    "confusion = confusion_matrix(y,y_predict)\n",
    "confusion"
   ]
  },
  {
   "attachments": {},
   "cell_type": "markdown",
   "metadata": {},
   "source": [
    "خیلی شبیه به حالت خطی پیش بینی کرده است هر دو 4 داده را اشتباه پیش بینی کرده اند و یک درصد خطا دارند اما این چند جمله ای برای کلاس دوم پیش آمار بهتری دارد چون 48 تا پیش بینی صحیح دارد در صورتی که دیگری 47 اما در کلاس سوم آن که خطی عمل کرده پیش بینی بهتری دارد و 49 تا پیش بینی صحیح دارد در صورتی که این چند جمله ای 48 تا پیش بینی صحیح دارد. همچنین این چند جمله ای با احتمال کاملا یکسان بین سه کلاس عمل کرده و از هر کدام 50 تا پیش بینی دارد در صورتی که دیگری که خطی بود یکمی بیشتر از کلاس سوم پیشبینی می کرد."
   ]
  },
  {
   "cell_type": "markdown",
   "metadata": {},
   "source": []
  }
 ],
 "metadata": {
  "kernelspec": {
   "display_name": "venv",
   "language": "python",
   "name": "python3"
  },
  "language_info": {
   "codemirror_mode": {
    "name": "ipython",
    "version": 3
   },
   "file_extension": ".py",
   "mimetype": "text/x-python",
   "name": "python",
   "nbconvert_exporter": "python",
   "pygments_lexer": "ipython3",
   "version": "3.11.2"
  },
  "orig_nbformat": 4
 },
 "nbformat": 4,
 "nbformat_minor": 2
}
