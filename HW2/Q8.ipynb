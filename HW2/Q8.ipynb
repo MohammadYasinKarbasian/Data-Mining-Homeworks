{
 "cells": [
  {
   "cell_type": "markdown",
   "metadata": {},
   "source": [
    "# Q8"
   ]
  },
  {
   "cell_type": "code",
   "execution_count": 31,
   "metadata": {},
   "outputs": [],
   "source": [
    "import pandas as pd"
   ]
  },
  {
   "cell_type": "code",
   "execution_count": 32,
   "metadata": {},
   "outputs": [
    {
     "data": {
      "text/html": [
       "<div>\n",
       "<style scoped>\n",
       "    .dataframe tbody tr th:only-of-type {\n",
       "        vertical-align: middle;\n",
       "    }\n",
       "\n",
       "    .dataframe tbody tr th {\n",
       "        vertical-align: top;\n",
       "    }\n",
       "\n",
       "    .dataframe thead th {\n",
       "        text-align: right;\n",
       "    }\n",
       "</style>\n",
       "<table border=\"1\" class=\"dataframe\">\n",
       "  <thead>\n",
       "    <tr style=\"text-align: right;\">\n",
       "      <th></th>\n",
       "      <th>Unnamed: 0</th>\n",
       "      <th>Class</th>\n",
       "      <th>Petal length</th>\n",
       "      <th>Sepal length</th>\n",
       "      <th>Sepal width</th>\n",
       "      <th>Petal width</th>\n",
       "    </tr>\n",
       "  </thead>\n",
       "  <tbody>\n",
       "    <tr>\n",
       "      <th>0</th>\n",
       "      <td>0</td>\n",
       "      <td>1</td>\n",
       "      <td>51</td>\n",
       "      <td>35</td>\n",
       "      <td>14</td>\n",
       "      <td>2</td>\n",
       "    </tr>\n",
       "    <tr>\n",
       "      <th>1</th>\n",
       "      <td>1</td>\n",
       "      <td>1</td>\n",
       "      <td>49</td>\n",
       "      <td>30</td>\n",
       "      <td>14</td>\n",
       "      <td>2</td>\n",
       "    </tr>\n",
       "    <tr>\n",
       "      <th>2</th>\n",
       "      <td>2</td>\n",
       "      <td>1</td>\n",
       "      <td>47</td>\n",
       "      <td>32</td>\n",
       "      <td>13</td>\n",
       "      <td>2</td>\n",
       "    </tr>\n",
       "    <tr>\n",
       "      <th>3</th>\n",
       "      <td>3</td>\n",
       "      <td>1</td>\n",
       "      <td>46</td>\n",
       "      <td>31</td>\n",
       "      <td>15</td>\n",
       "      <td>2</td>\n",
       "    </tr>\n",
       "    <tr>\n",
       "      <th>4</th>\n",
       "      <td>4</td>\n",
       "      <td>1</td>\n",
       "      <td>50</td>\n",
       "      <td>36</td>\n",
       "      <td>14</td>\n",
       "      <td>2</td>\n",
       "    </tr>\n",
       "    <tr>\n",
       "      <th>...</th>\n",
       "      <td>...</td>\n",
       "      <td>...</td>\n",
       "      <td>...</td>\n",
       "      <td>...</td>\n",
       "      <td>...</td>\n",
       "      <td>...</td>\n",
       "    </tr>\n",
       "    <tr>\n",
       "      <th>145</th>\n",
       "      <td>145</td>\n",
       "      <td>3</td>\n",
       "      <td>67</td>\n",
       "      <td>30</td>\n",
       "      <td>52</td>\n",
       "      <td>23</td>\n",
       "    </tr>\n",
       "    <tr>\n",
       "      <th>146</th>\n",
       "      <td>146</td>\n",
       "      <td>3</td>\n",
       "      <td>63</td>\n",
       "      <td>25</td>\n",
       "      <td>50</td>\n",
       "      <td>19</td>\n",
       "    </tr>\n",
       "    <tr>\n",
       "      <th>147</th>\n",
       "      <td>147</td>\n",
       "      <td>3</td>\n",
       "      <td>65</td>\n",
       "      <td>30</td>\n",
       "      <td>52</td>\n",
       "      <td>20</td>\n",
       "    </tr>\n",
       "    <tr>\n",
       "      <th>148</th>\n",
       "      <td>148</td>\n",
       "      <td>3</td>\n",
       "      <td>62</td>\n",
       "      <td>34</td>\n",
       "      <td>54</td>\n",
       "      <td>23</td>\n",
       "    </tr>\n",
       "    <tr>\n",
       "      <th>149</th>\n",
       "      <td>149</td>\n",
       "      <td>3</td>\n",
       "      <td>59</td>\n",
       "      <td>30</td>\n",
       "      <td>51</td>\n",
       "      <td>18</td>\n",
       "    </tr>\n",
       "  </tbody>\n",
       "</table>\n",
       "<p>150 rows × 6 columns</p>\n",
       "</div>"
      ],
      "text/plain": [
       "     Unnamed: 0  Class  Petal length  Sepal length  Sepal width  Petal width\n",
       "0             0      1            51            35           14            2\n",
       "1             1      1            49            30           14            2\n",
       "2             2      1            47            32           13            2\n",
       "3             3      1            46            31           15            2\n",
       "4             4      1            50            36           14            2\n",
       "..          ...    ...           ...           ...          ...          ...\n",
       "145         145      3            67            30           52           23\n",
       "146         146      3            63            25           50           19\n",
       "147         147      3            65            30           52           20\n",
       "148         148      3            62            34           54           23\n",
       "149         149      3            59            30           51           18\n",
       "\n",
       "[150 rows x 6 columns]"
      ]
     },
     "execution_count": 32,
     "metadata": {},
     "output_type": "execute_result"
    }
   ],
   "source": [
    "df = pd.read_csv('Iris.csv', sep=',')\n",
    "df"
   ]
  },
  {
   "cell_type": "code",
   "execution_count": 33,
   "metadata": {},
   "outputs": [],
   "source": [
    "df.drop(df.filter(regex=\"Unname\"),axis=1, inplace=True)\n",
    "x = df.drop('Class', axis=1)\n",
    "y = df['Class']"
   ]
  },
  {
   "cell_type": "code",
   "execution_count": 34,
   "metadata": {},
   "outputs": [],
   "source": [
    "from sklearn.preprocessing import MinMaxScaler\n",
    "\n",
    "x_stan = MinMaxScaler().fit_transform(X=x)"
   ]
  },
  {
   "cell_type": "code",
   "execution_count": 35,
   "metadata": {},
   "outputs": [],
   "source": [
    "from sklearn.model_selection import train_test_split\n",
    "x_stan_train,x_stan_test,y_train,y_test = train_test_split(x_stan,y,test_size=0.2)"
   ]
  },
  {
   "cell_type": "markdown",
   "metadata": {},
   "source": [
    "1"
   ]
  },
  {
   "cell_type": "code",
   "execution_count": 36,
   "metadata": {},
   "outputs": [],
   "source": [
    "def weighted_classification(distance,y):\n",
    "    sum1=0\n",
    "    sum2=0\n",
    "    sum3=0\n",
    "    for i in range(len(distance)):\n",
    "        if y[i] == 1: sum1+=1/((distance[i]+0.00000001)**2)\n",
    "        if y[i] == 2: sum2+=1/((distance[i]+0.00000001)**2)\n",
    "        if y[i] == 3: sum3+=1/((distance[i]+0.00000001)**2)\n",
    "    if sum1>=sum2 and sum1>=sum3: return 1\n",
    "    if sum2>=sum1 and sum2>=sum3: return 2\n",
    "    if sum3>=sum2 and sum3>=sum1: return 3"
   ]
  },
  {
   "cell_type": "code",
   "execution_count": 38,
   "metadata": {},
   "outputs": [
    {
     "name": "stdout",
     "output_type": "stream",
     "text": [
      "accuracy score on test set with k=1:  0.23333333333333334\n",
      "accuracy score on test set with k=2:  0.23333333333333334\n",
      "accuracy score on test set with k=3:  0.2\n",
      "accuracy score on test set with k=4:  0.2\n",
      "accuracy score on test set with k=5:  0.2\n",
      "accuracy score on test set with k=6:  0.23333333333333334\n",
      "accuracy score on test set with k=7:  0.3\n",
      "accuracy score on test set with k=8:  0.3\n",
      "accuracy score on test set with k=9:  0.3\n",
      "accuracy score on test set with k=10:  0.3\n",
      "accuracy score on test set with k=11:  0.3\n",
      "accuracy score on test set with k=12:  0.3333333333333333\n",
      "accuracy score on test set with k=13:  0.36666666666666664\n",
      "accuracy score on test set with k=14:  0.3333333333333333\n",
      "accuracy score on test set with k=15:  0.3333333333333333\n",
      "accuracy score on test set with k=16:  0.3333333333333333\n",
      "accuracy score on test set with k=17:  0.36666666666666664\n",
      "accuracy score on test set with k=18:  0.36666666666666664\n",
      "accuracy score on test set with k=19:  0.43333333333333335\n",
      "accuracy score on test set with k=20:  0.4\n",
      "accuracy score on test set with k=21:  0.4\n",
      "accuracy score on test set with k=22:  0.4\n",
      "accuracy score on test set with k=23:  0.4\n",
      "accuracy score on test set with k=24:  0.4\n",
      "accuracy score on test set with k=25:  0.4\n",
      "accuracy score on test set with k=26:  0.43333333333333335\n",
      "accuracy score on test set with k=27:  0.4\n",
      "accuracy score on test set with k=28:  0.4\n",
      "accuracy score on test set with k=29:  0.43333333333333335\n",
      "accuracy score on test set with k=30:  0.4\n",
      "Max accuracy is 0.43333333333333335 and laest k that have this value is 19\n"
     ]
    }
   ],
   "source": [
    "from sklearn.neighbors import KDTree\n",
    "from copy import deepcopy\n",
    "from sklearn.metrics import accuracy_score\n",
    "import numpy as np \n",
    "\n",
    "myTree = KDTree(x_stan_train)\n",
    "acc = []\n",
    "y_test = np.array(y_test)\n",
    "y_test_predict = deepcopy(y_test)\n",
    "for k in range(30):\n",
    "    for i in range(y_test.shape[0]):\n",
    "        distance,index = myTree.query(x_stan_test[i].reshape(-1, 4), k = k+1)\n",
    "        distance = distance.reshape((-1,)).tolist()\n",
    "        index = index.reshape((-1,)).tolist()\n",
    "        index = np.array(index)\n",
    "        distance = np.array(distance)\n",
    "        y_temp = np.array(y)\n",
    "        y_neighbors = y_temp[index]\n",
    "        y_test_predict[i] = weighted_classification(distance,y_neighbors)\n",
    "    acc.append(accuracy_score(y_test,y_test_predict))\n",
    "    print(f\"accuracy score on test set with k={k+1}: \",accuracy_score(y_test,y_test_predict))  \n",
    "print(f\"Max accuracy is {max(acc)} and laest k that have this value is {np.argmax(acc)+1}\") "
   ]
  },
  {
   "attachments": {},
   "cell_type": "markdown",
   "metadata": {},
   "source": [
    "برای ما مقدار 19 همسایگی بهترین است زیرا بیشترین میزان دقت را دارد و پیچیدگی کمتری هم نسبت به بقیه با این درصد از دقت دارد."
   ]
  },
  {
   "cell_type": "code",
   "execution_count": 39,
   "metadata": {},
   "outputs": [
    {
     "data": {
      "image/png": "[encoded data removed]",
      "text/plain": [
       "<Figure size 200x200 with 1 Axes>"
      ]
     },
     "metadata": {},
     "output_type": "display_data"
    }
   ],
   "source": [
    "import matplotlib.pyplot as plt\n",
    "\n",
    "plt.style.use('_mpl-gallery')\n",
    "\n",
    "em = []\n",
    "for i in range(30):\n",
    "    em.append(i+1)\n",
    "x1 = em\n",
    "y1 = acc\n",
    "\n",
    "fig, ax = plt.subplots()\n",
    "\n",
    "ax.scatter(x1, y1)\n",
    "\n",
    "plt.show()"
   ]
  },
  {
   "cell_type": "code",
   "execution_count": 40,
   "metadata": {},
   "outputs": [],
   "source": [
    "from sklearn.neighbors import KDTree\n",
    "from copy import deepcopy\n",
    "from sklearn.metrics import accuracy_score\n",
    "import numpy as np \n",
    "\n",
    "myTree = KDTree(x_stan_train)\n",
    "y_test = np.array(y_test)\n",
    "y_test_predict = deepcopy(y_test)\n",
    "for i in range(y_test.shape[0]):\n",
    "    distance,index = myTree.query(x_stan_test[i].reshape(-1, 4), k = 9)\n",
    "    distance = distance.reshape((-1,)).tolist()\n",
    "    index = index.reshape((-1,)).tolist()\n",
    "    index = np.array(index)\n",
    "    distance = np.array(distance)\n",
    "    y_temp = np.array(y)\n",
    "    y_neighbors = y_temp[index]\n",
    "    y_test_predict[i] = weighted_classification(distance,y_neighbors)\n"
   ]
  },
  {
   "cell_type": "code",
   "execution_count": 41,
   "metadata": {},
   "outputs": [
    {
     "data": {
      "text/plain": [
       "array([[6, 1, 4],\n",
       "       [3, 3, 1],\n",
       "       [7, 5, 0]], dtype=int64)"
      ]
     },
     "execution_count": 41,
     "metadata": {},
     "output_type": "execute_result"
    }
   ],
   "source": [
    "from sklearn.metrics import confusion_matrix\n",
    "\n",
    "confusion = confusion_matrix(y_test,y_test_predict)\n",
    "confusion"
   ]
  },
  {
   "attachments": {},
   "cell_type": "markdown",
   "metadata": {},
   "source": [
    "From 11 instance from class 1, 6 of them recognize as 1 , 1 of them as 2 and 4 of them as 3.<br>\n",
    "From 7 instance from class 2, 3 of them recognize as 1 , 3 of them as 2 and 1 of them as 3.<br>\n",
    "From 12 instance from class 3, 7 of them recognize as 1 , 5 of them as 2 and 0 of them as 3.\n"
   ]
  },
  {
   "cell_type": "code",
   "execution_count": 42,
   "metadata": {},
   "outputs": [
    {
     "name": "stdout",
     "output_type": "stream",
     "text": [
      "accuracy score on test set with k=1:  0.23333333333333334\n",
      "accuracy score on test set with k=2:  0.23333333333333334\n",
      "accuracy score on test set with k=3:  0.2\n",
      "accuracy score on test set with k=4:  0.2\n",
      "accuracy score on test set with k=5:  0.2\n",
      "accuracy score on test set with k=6:  0.23333333333333334\n",
      "accuracy score on test set with k=7:  0.3\n",
      "accuracy score on test set with k=8:  0.3\n",
      "accuracy score on test set with k=9:  0.3\n",
      "accuracy score on test set with k=10:  0.3\n",
      "accuracy score on test set with k=11:  0.3\n",
      "accuracy score on test set with k=12:  0.3333333333333333\n",
      "accuracy score on test set with k=13:  0.36666666666666664\n",
      "accuracy score on test set with k=14:  0.3333333333333333\n",
      "accuracy score on test set with k=15:  0.3333333333333333\n",
      "accuracy score on test set with k=16:  0.3333333333333333\n",
      "accuracy score on test set with k=17:  0.36666666666666664\n",
      "accuracy score on test set with k=18:  0.36666666666666664\n",
      "accuracy score on test set with k=19:  0.43333333333333335\n",
      "accuracy score on test set with k=20:  0.4\n",
      "accuracy score on test set with k=21:  0.4\n",
      "accuracy score on test set with k=22:  0.4\n",
      "accuracy score on test set with k=23:  0.4\n",
      "accuracy score on test set with k=24:  0.4\n",
      "accuracy score on test set with k=25:  0.4\n",
      "accuracy score on test set with k=26:  0.43333333333333335\n",
      "accuracy score on test set with k=27:  0.4\n",
      "accuracy score on test set with k=28:  0.4\n",
      "accuracy score on test set with k=29:  0.43333333333333335\n",
      "accuracy score on test set with k=30:  0.4\n",
      "Max accuracy is 0.43333333333333335 and laest k that have this value is 19\n"
     ]
    }
   ],
   "source": [
    "from sklearn.neighbors import BallTree\n",
    "from copy import deepcopy\n",
    "from sklearn.metrics import accuracy_score\n",
    "import numpy as np \n",
    "\n",
    "myTree = BallTree(x_stan_train)\n",
    "acc = []\n",
    "y_test = np.array(y_test)\n",
    "y_test_predict = deepcopy(y_test)\n",
    "for k in range(30):\n",
    "    for i in range(y_test.shape[0]):\n",
    "        distance,index = myTree.query(x_stan_test[i].reshape(-1, 4), k = k+1)\n",
    "        distance = distance.reshape((-1,)).tolist()\n",
    "        index = index.reshape((-1,)).tolist()\n",
    "        index = np.array(index)\n",
    "        distance = np.array(distance)\n",
    "        y_temp = np.array(y)\n",
    "        y_neighbors = y_temp[index]\n",
    "        y_test_predict[i] = weighted_classification(distance,y_neighbors)\n",
    "    acc.append(accuracy_score(y_test,y_test_predict))\n",
    "    print(f\"accuracy score on test set with k={k+1}: \",accuracy_score(y_test,y_test_predict))  \n",
    "print(f\"Max accuracy is {max(acc)} and laest k that have this value is {np.argmax(acc)+1}\") "
   ]
  },
  {
   "attachments": {},
   "cell_type": "markdown",
   "metadata": {},
   "source": [
    "برای ما مقدار 19 همسایگی بهترین است زیرا بیشترین میزان دقت را دارد و پیچیدگی کمتری هم نسبت به بقیه با این درصد از دقت دارد."
   ]
  },
  {
   "cell_type": "code",
   "execution_count": 43,
   "metadata": {},
   "outputs": [
    {
     "data": {
      "image/png": "[encoded data removed]",
      "text/plain": [
       "<Figure size 200x200 with 1 Axes>"
      ]
     },
     "metadata": {},
     "output_type": "display_data"
    }
   ],
   "source": [
    "import matplotlib.pyplot as plt\n",
    "\n",
    "plt.style.use('_mpl-gallery')\n",
    "\n",
    "em = []\n",
    "for i in range(30):\n",
    "    em.append(i+1)\n",
    "x1 = em\n",
    "y1 = acc\n",
    "\n",
    "fig, ax = plt.subplots()\n",
    "\n",
    "ax.scatter(x1, y1)\n",
    "\n",
    "plt.show()"
   ]
  },
  {
   "cell_type": "code",
   "execution_count": 44,
   "metadata": {},
   "outputs": [],
   "source": [
    "from sklearn.neighbors import BallTree\n",
    "from copy import deepcopy\n",
    "from sklearn.metrics import accuracy_score\n",
    "import numpy as np \n",
    "\n",
    "myTree = BallTree(x_stan_train)\n",
    "y_test = np.array(y_test)\n",
    "y_test_predict = deepcopy(y_test)\n",
    "for i in range(y_test.shape[0]):\n",
    "    distance,index = myTree.query(x_stan_test[i].reshape(-1, 4), k = 9)\n",
    "    distance = distance.reshape((-1,)).tolist()\n",
    "    index = index.reshape((-1,)).tolist()\n",
    "    index = np.array(index)\n",
    "    distance = np.array(distance)\n",
    "    y_temp = np.array(y)\n",
    "    y_neighbors = y_temp[index]\n",
    "    y_test_predict[i] = weighted_classification(distance,y_neighbors)\n"
   ]
  },
  {
   "cell_type": "code",
   "execution_count": 45,
   "metadata": {},
   "outputs": [
    {
     "data": {
      "text/plain": [
       "array([[6, 1, 4],\n",
       "       [3, 3, 1],\n",
       "       [7, 5, 0]], dtype=int64)"
      ]
     },
     "execution_count": 45,
     "metadata": {},
     "output_type": "execute_result"
    }
   ],
   "source": [
    "from sklearn.metrics import confusion_matrix\n",
    "\n",
    "confusion = confusion_matrix(y_test,y_test_predict)\n",
    "confusion"
   ]
  },
  {
   "attachments": {},
   "cell_type": "markdown",
   "metadata": {},
   "source": [
    "From 11 instance from class 1, 6 of them recognize as 1 , 1 of them as 2 and 4 of them as 3.<br>\n",
    "From 7 instance from class 2, 3 of them recognize as 1 , 3 of them as 2 and 1 of them as 3.<br>\n",
    "From 12 instance from class 3, 7 of them recognize as 1 , 5 of them as 2 and 0 of them as 3."
   ]
  },
  {
   "attachments": {},
   "cell_type": "markdown",
   "metadata": {},
   "source": [
    "این دو روش جواب های یکسانی می دهند اما تفاوت آنها در نحوه رسیدن به این جواب است که در کل روش دوم مقداری سریع تر به جواب می رسد و این تفاوت سرعت برای داده های با حجم زیاد قابل مشاهده است."
   ]
  },
  {
   "cell_type": "markdown",
   "metadata": {},
   "source": []
  }
 ],
 "metadata": {
  "kernelspec": {
   "display_name": "base",
   "language": "python",
   "name": "python3"
  },
  "language_info": {
   "codemirror_mode": {
    "name": "ipython",
    "version": 3
   },
   "file_extension": ".py",
   "mimetype": "text/x-python",
   "name": "python",
   "nbconvert_exporter": "python",
   "pygments_lexer": "ipython3",
   "version": "3.11.2"
  }
 },
 "nbformat": 4,
 "nbformat_minor": 2
}
